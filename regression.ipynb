{
 "cells": [
  {
   "cell_type": "code",
   "execution_count": 2,
   "metadata": {},
   "outputs": [
    {
     "data": {
      "text/plain": [
       "<matplotlib.collections.PathCollection at 0x1f87699b130>"
      ]
     },
     "execution_count": 2,
     "metadata": {},
     "output_type": "execute_result"
    },
    {
     "data": {
      "image/png": "[encoded data removed]",
      "text/plain": [
       "<Figure size 432x288 with 1 Axes>"
      ]
     },
     "metadata": {
      "needs_background": "light"
     },
     "output_type": "display_data"
    }
   ],
   "source": [
    "import numpy as np\n",
    "x = 2 *np.random.rand(100,1)\n",
    "y = 4 + 3 *x + np.random.randn(100,1)\n",
    "import matplotlib.pyplot as plt\n",
    "plt.scatter(x,y)"
   ]
  },
  {
   "cell_type": "code",
   "execution_count": 18,
   "metadata": {},
   "outputs": [],
   "source": [
    "def NormalEq(x,y):\n",
    "    x_b = np.c_[np.ones((100,1)),x] #Translates slice objects to concatenation along the second axis\n",
    "    theta_best = np.linalg.inv(x_b.T.dot(x_b)).dot(x_b.T).dot(y)\n",
    "    y_hat = x*theta_best[1]+theta_best[0]\n",
    "    return theta_best, y_hat"
   ]
  },
  {
   "cell_type": "code",
   "execution_count": 19,
   "metadata": {},
   "outputs": [
    {
     "data": {
      "image/png": "[encoded data removed]",
      "text/plain": [
       "<Figure size 432x288 with 1 Axes>"
      ]
     },
     "metadata": {
      "needs_background": "light"
     },
     "output_type": "display_data"
    }
   ],
   "source": [
    "theta_best,y_hat = NormalEq(x,y)\n",
    "plt.scatter(x,y)\n",
    "plt.plot(x,y_hat,\"r-\")\n",
    "plt.show()"
   ]
  },
  {
   "cell_type": "code",
   "execution_count": null,
   "metadata": {},
   "outputs": [],
   "source": [
    "x_b = np.c_[np.ones((100,1)),x]\n",
    "print(x_b)\n",
    "print(x)"
   ]
  },
  {
   "cell_type": "code",
   "execution_count": 23,
   "metadata": {},
   "outputs": [
    {
     "data": {
      "image/png": "[encoded data removed]",
      "text/plain": [
       "<Figure size 432x288 with 1 Axes>"
      ]
     },
     "metadata": {
      "needs_background": "light"
     },
     "output_type": "display_data"
    }
   ],
   "source": [
    "from sklearn.linear_model import LinearRegression\n",
    "lin_reg = LinearRegression()\n",
    "lin_reg.fit(x,y)\n",
    "a,b = lin_reg.intercept_, lin_reg.coef_\n",
    "something = lin_reg.predict(x)\n",
    "plt.scatter(x,y)\n",
    "plt.plot(x,something,\"r-\")\n",
    "plt.show()"
   ]
  },
  {
   "cell_type": "code",
   "execution_count": 30,
   "metadata": {},
   "outputs": [],
   "source": [
    "def BGD(iters,lr,m,x,y):\n",
    "    x_b = np.c_[np.ones((100,1)),x]\n",
    "    theta = np.random.randn(2,1)\n",
    "    for iter in range(iters):\n",
    "        gradient_theta = 2/m * x_b.T.dot(x_b.dot(theta)-y)\n",
    "        theta = theta - lr*gradient_theta\n",
    "    return theta; "
   ]
  },
  {
   "cell_type": "code",
   "execution_count": 31,
   "metadata": {},
   "outputs": [
    {
     "name": "stdout",
     "output_type": "stream",
     "text": [
      "[[4.00964721]\n",
      " [2.96101673]]\n"
     ]
    }
   ],
   "source": [
    "print(BGD(1000,0.1,100,x,y))"
   ]
  },
  {
   "cell_type": "code",
   "execution_count": 34,
   "metadata": {},
   "outputs": [],
   "source": [
    "def SGD(iters,m,x,y):\n",
    "    x_b = np.c_[np.ones((100,1)),x]\n",
    "    theta  = np.random.randn(2,1)\n",
    "    for iter in range(iters):\n",
    "        for i in range(m):\n",
    "            index = np.random.randint(m)\n",
    "            xi = x_b[index:index+1]\n",
    "            yi = y[index:index+1]\n",
    "            gradient_theta = 2/m * xi.T.dot(xi.dot(theta)-yi)\n",
    "            eta = learning_schedule(iter * m + i,5,50)\n",
    "            theta = theta - eta*gradient_theta\n",
    "    return theta\n",
    "\n",
    "def learning_schedule(t,t0,t1):\n",
    " return t0 / (t + t1)\n"
   ]
  },
  {
   "cell_type": "code",
   "execution_count": 51,
   "metadata": {},
   "outputs": [
    {
     "name": "stdout",
     "output_type": "stream",
     "text": [
      "[[2.51210765]\n",
      " [0.82138671]]\n"
     ]
    }
   ],
   "source": [
    "print(SGD(50,100,x,y))"
   ]
  },
  {
   "cell_type": "code",
   "execution_count": 47,
   "metadata": {},
   "outputs": [
    {
     "data": {
      "text/plain": [
       "(array([4.02678976]), array([3.00226684]))"
      ]
     },
     "execution_count": 47,
     "metadata": {},
     "output_type": "execute_result"
    }
   ],
   "source": [
    "from sklearn.linear_model import SGDRegressor\n",
    "sgdreg = SGDRegressor(max_iter=1000,tol=1e-3,penalty=None,eta0=0.1)#runs until 1000 epochs or until loss drops till 0.001. starts with lr = 0.1 using default lr schedule. no regularization\n",
    "sgdreg.fit(x,y.ravel())\n",
    "sgdreg.intercept_, sgdreg.coef_"
   ]
  },
  {
   "cell_type": "code",
   "execution_count": 48,
   "metadata": {},
   "outputs": [],
   "source": [
    "\n",
    "def MBGD(iters,m,x,y,minibatch):\n",
    "    x_b = np.c_[np.ones((100,1)),x]\n",
    "    theta  = np.random.randn(2,1)\n",
    "    t = 0\n",
    "    for iter in range(iters):\n",
    "        index = np.random.permutation(m)\n",
    "        x_shuffled = x_b[index] #shuffled, jus shuffled for better chance\n",
    "        y_shuffled = y[index] #shuffled, jus shuffled for better chance\n",
    "        for i in range(0,m,minibatch):\n",
    "            t += 1\n",
    "            xi = x_shuffled[i:i+minibatch]\n",
    "            yi = y_shuffled[i:i+minibatch]\n",
    "            gradient_theta = 2/minibatch * xi.T.dot(xi.dot(theta)-yi)\n",
    "            eta = learning_schedule(t,5,50)\n",
    "            theta = theta - eta*gradient_theta\n",
    "    return theta"
   ]
  },
  {
   "cell_type": "code",
   "execution_count": 50,
   "metadata": {},
   "outputs": [
    {
     "name": "stdout",
     "output_type": "stream",
     "text": [
      "[[4.0010362 ]\n",
      " [2.97010054]]\n"
     ]
    }
   ],
   "source": [
    "print(MBGD(50,100,x,y,20))"
   ]
  },
  {
   "cell_type": "code",
   "execution_count": 58,
   "metadata": {},
   "outputs": [
    {
     "name": "stdout",
     "output_type": "stream",
     "text": [
      "[7 8 5 2]\n"
     ]
    }
   ],
   "source": [
    "##polynomial regression, y = ax**2 + bx + c, number of parameters - 3 + 1\n",
    "#lets decide the parameters\n",
    "np.random.seed(69)\n",
    "parameters = np.random.randint(1,10,4)\n",
    "print(parameters)\n"
   ]
  },
  {
   "cell_type": "code",
   "execution_count": 62,
   "metadata": {},
   "outputs": [
    {
     "data": {
      "text/plain": [
       "[<matplotlib.lines.Line2D at 0x1f87dffc190>]"
      ]
     },
     "execution_count": 62,
     "metadata": {},
     "output_type": "execute_result"
    },
    {
     "data": {
      "image/png": "[encoded data removed]",
      "text/plain": [
       "<Figure size 432x288 with 1 Axes>"
      ]
     },
     "metadata": {
      "needs_background": "light"
     },
     "output_type": "display_data"
    }
   ],
   "source": [
    "m = 100\n",
    "x = np.random.rand(m,1)*7\n",
    "y = 8*x**2 + 5*x + 2 + np.random.randn(m,1)*20\n",
    "plt.plot(x,y,\"b.\")"
   ]
  },
  {
   "cell_type": "code",
   "execution_count": 63,
   "metadata": {},
   "outputs": [
    {
     "name": "stdout",
     "output_type": "stream",
     "text": [
      "[[-72.56152219]\n",
      " [ 63.39240092]]\n"
     ]
    },
    {
     "data": {
      "text/plain": [
       "[<matplotlib.lines.Line2D at 0x1f87e05c6a0>]"
      ]
     },
     "execution_count": 63,
     "metadata": {},
     "output_type": "execute_result"
    },
    {
     "data": {
      "image/png": "[encoded data removed]",
      "text/plain": [
       "<Figure size 432x288 with 1 Axes>"
      ]
     },
     "metadata": {
      "needs_background": "light"
     },
     "output_type": "display_data"
    }
   ],
   "source": [
    "theta_best,y_hat = NormalEq(x,y)\n",
    "print(theta_best)\n",
    "plt.plot(x,y,\"b.\")\n",
    "plt.plot(x,y_hat,\"r-\")"
   ]
  },
  {
   "cell_type": "code",
   "execution_count": 76,
   "metadata": {},
   "outputs": [
    {
     "data": {
      "text/plain": [
       "[<matplotlib.lines.Line2D at 0x1f87e38ab50>]"
      ]
     },
     "execution_count": 76,
     "metadata": {},
     "output_type": "execute_result"
    },
    {
     "data": {
      "image/png": "[encoded data removed]",
      "text/plain": [
       "<Figure size 432x288 with 1 Axes>"
      ]
     },
     "metadata": {
      "needs_background": "light"
     },
     "output_type": "display_data"
    }
   ],
   "source": [
    "#dosent work right\n",
    "from sklearn.preprocessing import PolynomialFeatures\n",
    "Poly_features = PolynomialFeatures(degree=2)\n",
    "x_poly = Poly_features.fit_transform(x)\n",
    "lin_reg = LinearRegression()\n",
    "lin_reg.fit(x_poly, y)\n",
    "X_new=np.linspace(0, 7, 100).reshape(100, 1)\n",
    "X_new_poly = Poly_features.transform(X_new)\n",
    "y_new = lin_reg.predict(X_new_poly)\n",
    "plt.plot(x,y,\"b.\")\n",
    "plt.plot(X_new,y_new,\"r-\")\n",
    "#PolynomialFeatures(degree=d) transforms an array containing n\n",
    "# features into an array containing (n + d)! / d!n! features, higher degree mdel can severly overfit, can use cross-validation to check\n"
   ]
  },
  {
   "cell_type": "code",
   "execution_count": null,
   "metadata": {},
   "outputs": [],
   "source": []
  }
 ],
 "metadata": {
  "kernelspec": {
   "display_name": "bcs_project",
   "language": "python",
   "name": "python3"
  },
  "language_info": {
   "codemirror_mode": {
    "name": "ipython",
    "version": 3
   },
   "file_extension": ".py",
   "mimetype": "text/x-python",
   "name": "python",
   "nbconvert_exporter": "python",
   "pygments_lexer": "ipython3",
   "version": "3.9.12"
  },
  "orig_nbformat": 4,
  "vscode": {
   "interpreter": {
    "hash": "6c685f40f4e372158c8452f24cd9ee0bbc1030a9f2f196d3595227ed632ab81f"
   }
  }
 },
 "nbformat": 4,
 "nbformat_minor": 2
}
